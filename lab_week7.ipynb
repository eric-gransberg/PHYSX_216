{
 "cells": [
  {
   "cell_type": "code",
   "execution_count": 4,
   "id": "39855183",
   "metadata": {},
   "outputs": [
    {
     "name": "stdout",
     "output_type": "stream",
     "text": [
      "0.04\n",
      "0.0012\n",
      "0.022360679774997897\n",
      "0.04123105625617661\n"
     ]
    }
   ],
   "source": [
    "import numpy as np\n",
    "def rule1(c,dA):\n",
    "    dQ=c*dA\n",
    "    return dQ\n",
    "c=4\n",
    "dA=0.01\n",
    "dx1=rule1(c,dA)\n",
    "print(dx1)\n",
    "\n",
    "def rule2(c,m,A,dA):\n",
    "    dQ=c*m*(A**(m-1))*dA\n",
    "    return dQ\n",
    "c=3\n",
    "m=2\n",
    "A=.02\n",
    "dA=.01\n",
    "dx2=rule2(c,m,A,dA)\n",
    "print (dx2)\n",
    "\n",
    "def rule3(dA,dB):\n",
    "    dQ=np.sqrt(dA**2+dB**2)\n",
    "    return dQ\n",
    "\n",
    "dx1=0.01\n",
    "dx2=0.02\n",
    "\n",
    "dx=rule3 (dx1,dx2)\n",
    "print (dx)\n",
    "\n",
    "def rule4 (m,dA,A,n,dB,B):\n",
    "    dQ=np.sqrt((((m*dA)/A)**2)+(((n*dB)/B)**2))\n",
    "    return dQ\n",
    "m=.02\n",
    "dA=2\n",
    "A=4\n",
    "n=3\n",
    "dB=.04\n",
    "B=3\n",
    "dx4=rule4 (m,dA,A,n,dB,B)\n",
    "print (dx4)"
   ]
  },
  {
   "cell_type": "code",
   "execution_count": 5,
   "id": "337d977f",
   "metadata": {},
   "outputs": [
    {
     "name": "stdout",
     "output_type": "stream",
     "text": [
      "0.0032959794837097087\n"
     ]
    }
   ],
   "source": [
    "import numpy as np\n",
    "\n",
    "def rule4 (m,dA,A,n,dB,B):\n",
    "    dQ=np.sqrt((((m*dA)/A)**2)+(((n*dB)/B)**2))\n",
    "    return dQ\n",
    "m=1\n",
    "dA=0.0005\n",
    "A=0.99\n",
    "n=1\n",
    "dB=0.00696\n",
    "B=2.1369\n",
    "dx1=rule4 (m,dA,A,n,dB,B)\n",
    "print (dx1)"
   ]
  },
  {
   "cell_type": "code",
   "execution_count": 9,
   "id": "cb4ef7d3",
   "metadata": {},
   "outputs": [
    {
     "name": "stdout",
     "output_type": "stream",
     "text": [
      "0.073282810879294 1.1166666666666667\n"
     ]
    }
   ],
   "source": [
    "x=np.array([1.1, 1.3, 1.4, 0.9, 0.95, 1.05])\n",
    "\n",
    "std_x=np.std(x)/np.sqrt(6)\n",
    "avg_x=np.average(x)\n",
    "print(std_x,avg_x)"
   ]
  },
  {
   "cell_type": "markdown",
   "id": "67c24383",
   "metadata": {},
   "source": [
    "$Q= \\sqrt{(\\delta A)^2 + (\\delta B)^2}$"
   ]
  },
  {
   "cell_type": "markdown",
   "id": "b8c15e84",
   "metadata": {},
   "source": [
    "$Q=\\sqrt{(\\frac{1*0.0005}{0.99})^2+(\\frac{1*0.00696}{2.1369})^2}$"
   ]
  },
  {
   "cell_type": "code",
   "execution_count": null,
   "id": "14f36a83",
   "metadata": {},
   "outputs": [],
   "source": []
  }
 ],
 "metadata": {
  "kernelspec": {
   "display_name": "Python 3 (ipykernel)",
   "language": "python",
   "name": "python3"
  },
  "language_info": {
   "codemirror_mode": {
    "name": "ipython",
    "version": 3
   },
   "file_extension": ".py",
   "mimetype": "text/x-python",
   "name": "python",
   "nbconvert_exporter": "python",
   "pygments_lexer": "ipython3",
   "version": "3.9.12"
  }
 },
 "nbformat": 4,
 "nbformat_minor": 5
}
